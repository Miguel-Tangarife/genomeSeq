{
 "cells": [
  {
   "cell_type": "markdown",
   "metadata": {},
   "source": [
    "# metagenomeSeq differential abundance analysis script\n",
    "## 2020-04-13\n",
    "\n",
    "This script has in essence the same content as CSS.R (with some debugging). The aim is to have the information in a nice-formatted document.\n",
    "\n",
    "Scripts to reproduce the Figures  of Pérez-Jaramillo et al., 2016  \n",
    "Differential abundant features analysis using a Zero Inflated Gaussian Model\n",
    "from Paulson et al, 2013.\n",
    "\n",
    "Juan Esteban Pérez Jaramillo - Victor J. Carrión  \n",
    "Netherlands Institute of Ecology  \n",
    "j.perez@nioo.knaw.nl  \n",
    "biojep@gmail.com\n",
    "\n",
    "## Code\n",
    "Importing libraries:"
   ]
  },
  {
   "cell_type": "code",
   "execution_count": null,
   "metadata": {
    "scrolled": true
   },
   "outputs": [],
   "source": [
    "library(\"mime\")\n",
    "library(\"httpuv\")\n",
    "library(\"metagenomeSeq\")\n",
    "library(\"ggplot2\")\n",
    "library(\"NetComp\")"
   ]
  },
  {
   "cell_type": "markdown",
   "metadata": {},
   "source": [
    "Import data:"
   ]
  },
  {
   "cell_type": "code",
   "execution_count": 2,
   "metadata": {},
   "outputs": [
    {
     "data": {
      "text/html": [
       "'/home/nesper/Documentos/genomeseq/rhizosphere/metagenomeSeq/metagenomeSeq-abund'"
      ],
      "text/latex": [
       "'/home/nesper/Documentos/genomeseq/rhizosphere/metagenomeSeq/metagenomeSeq-abund'"
      ],
      "text/markdown": [
       "'/home/nesper/Documentos/genomeseq/rhizosphere/metagenomeSeq/metagenomeSeq-abund'"
      ],
      "text/plain": [
       "[1] \"/home/nesper/Documentos/genomeseq/rhizosphere/metagenomeSeq/metagenomeSeq-abund\""
      ]
     },
     "metadata": {},
     "output_type": "display_data"
    },
    {
     "data": {
      "text/html": [
       "<table>\n",
       "<caption>A matrix: 6 × 36 of type dbl</caption>\n",
       "<thead>\n",
       "\t<tr><th></th><th scope=col>A1_1</th><th scope=col>A1_2</th><th scope=col>A1_3</th><th scope=col>A1_4</th><th scope=col>A2_1</th><th scope=col>A2_2</th><th scope=col>A2_3</th><th scope=col>A2_4</th><th scope=col>L1_1</th><th scope=col>L1_2</th><th scope=col>⋯</th><th scope=col>M4_3</th><th scope=col>M4_4</th><th scope=col>M5_1</th><th scope=col>M5_2</th><th scope=col>M5_3</th><th scope=col>M5_4</th><th scope=col>S_1</th><th scope=col>S_2</th><th scope=col>S_3</th><th scope=col>S_4</th></tr>\n",
       "</thead>\n",
       "<tbody>\n",
       "\t<tr><th scope=row>ASV1</th><td>342</td><td>239</td><td>1076</td><td>322</td><td>299</td><td>437</td><td>237</td><td>928</td><td>566</td><td>605</td><td>⋯</td><td>482</td><td>423</td><td>824</td><td>312</td><td>940</td><td>455</td><td>0</td><td>0</td><td>0</td><td>0</td></tr>\n",
       "\t<tr><th scope=row>ASV2</th><td>354</td><td>239</td><td>1064</td><td>323</td><td>300</td><td>393</td><td>234</td><td>905</td><td>571</td><td>654</td><td>⋯</td><td>523</td><td>417</td><td>815</td><td>272</td><td>984</td><td>467</td><td>0</td><td>0</td><td>0</td><td>0</td></tr>\n",
       "\t<tr><th scope=row>ASV3</th><td>310</td><td>204</td><td> 878</td><td>269</td><td>229</td><td>335</td><td>224</td><td>678</td><td>436</td><td>527</td><td>⋯</td><td>395</td><td>321</td><td>658</td><td>236</td><td>788</td><td>382</td><td>0</td><td>0</td><td>0</td><td>0</td></tr>\n",
       "\t<tr><th scope=row>ASV4</th><td>252</td><td>213</td><td> 838</td><td>251</td><td>258</td><td>318</td><td>207</td><td>656</td><td>424</td><td>526</td><td>⋯</td><td>349</td><td>328</td><td>608</td><td>256</td><td>786</td><td>409</td><td>0</td><td>0</td><td>0</td><td>0</td></tr>\n",
       "\t<tr><th scope=row>ASV5</th><td>286</td><td>226</td><td> 868</td><td>291</td><td>242</td><td>361</td><td>218</td><td>663</td><td>418</td><td>480</td><td>⋯</td><td>339</td><td>293</td><td>579</td><td>273</td><td>784</td><td>378</td><td>0</td><td>0</td><td>0</td><td>0</td></tr>\n",
       "\t<tr><th scope=row>ASV6</th><td>236</td><td>205</td><td> 694</td><td>254</td><td>201</td><td>257</td><td>152</td><td>524</td><td>379</td><td>442</td><td>⋯</td><td>279</td><td>278</td><td>558</td><td>202</td><td>651</td><td>296</td><td>0</td><td>0</td><td>0</td><td>0</td></tr>\n",
       "</tbody>\n",
       "</table>\n"
      ],
      "text/latex": [
       "A matrix: 6 × 36 of type dbl\n",
       "\\begin{tabular}{r|lllllllllllllllllllll}\n",
       "  & A1\\_1 & A1\\_2 & A1\\_3 & A1\\_4 & A2\\_1 & A2\\_2 & A2\\_3 & A2\\_4 & L1\\_1 & L1\\_2 & ⋯ & M4\\_3 & M4\\_4 & M5\\_1 & M5\\_2 & M5\\_3 & M5\\_4 & S\\_1 & S\\_2 & S\\_3 & S\\_4\\\\\n",
       "\\hline\n",
       "\tASV1 & 342 & 239 & 1076 & 322 & 299 & 437 & 237 & 928 & 566 & 605 & ⋯ & 482 & 423 & 824 & 312 & 940 & 455 & 0 & 0 & 0 & 0\\\\\n",
       "\tASV2 & 354 & 239 & 1064 & 323 & 300 & 393 & 234 & 905 & 571 & 654 & ⋯ & 523 & 417 & 815 & 272 & 984 & 467 & 0 & 0 & 0 & 0\\\\\n",
       "\tASV3 & 310 & 204 &  878 & 269 & 229 & 335 & 224 & 678 & 436 & 527 & ⋯ & 395 & 321 & 658 & 236 & 788 & 382 & 0 & 0 & 0 & 0\\\\\n",
       "\tASV4 & 252 & 213 &  838 & 251 & 258 & 318 & 207 & 656 & 424 & 526 & ⋯ & 349 & 328 & 608 & 256 & 786 & 409 & 0 & 0 & 0 & 0\\\\\n",
       "\tASV5 & 286 & 226 &  868 & 291 & 242 & 361 & 218 & 663 & 418 & 480 & ⋯ & 339 & 293 & 579 & 273 & 784 & 378 & 0 & 0 & 0 & 0\\\\\n",
       "\tASV6 & 236 & 205 &  694 & 254 & 201 & 257 & 152 & 524 & 379 & 442 & ⋯ & 279 & 278 & 558 & 202 & 651 & 296 & 0 & 0 & 0 & 0\\\\\n",
       "\\end{tabular}\n"
      ],
      "text/markdown": [
       "\n",
       "A matrix: 6 × 36 of type dbl\n",
       "\n",
       "| <!--/--> | A1_1 | A1_2 | A1_3 | A1_4 | A2_1 | A2_2 | A2_3 | A2_4 | L1_1 | L1_2 | ⋯ | M4_3 | M4_4 | M5_1 | M5_2 | M5_3 | M5_4 | S_1 | S_2 | S_3 | S_4 |\n",
       "|---|---|---|---|---|---|---|---|---|---|---|---|---|---|---|---|---|---|---|---|---|---|\n",
       "| ASV1 | 342 | 239 | 1076 | 322 | 299 | 437 | 237 | 928 | 566 | 605 | ⋯ | 482 | 423 | 824 | 312 | 940 | 455 | 0 | 0 | 0 | 0 |\n",
       "| ASV2 | 354 | 239 | 1064 | 323 | 300 | 393 | 234 | 905 | 571 | 654 | ⋯ | 523 | 417 | 815 | 272 | 984 | 467 | 0 | 0 | 0 | 0 |\n",
       "| ASV3 | 310 | 204 |  878 | 269 | 229 | 335 | 224 | 678 | 436 | 527 | ⋯ | 395 | 321 | 658 | 236 | 788 | 382 | 0 | 0 | 0 | 0 |\n",
       "| ASV4 | 252 | 213 |  838 | 251 | 258 | 318 | 207 | 656 | 424 | 526 | ⋯ | 349 | 328 | 608 | 256 | 786 | 409 | 0 | 0 | 0 | 0 |\n",
       "| ASV5 | 286 | 226 |  868 | 291 | 242 | 361 | 218 | 663 | 418 | 480 | ⋯ | 339 | 293 | 579 | 273 | 784 | 378 | 0 | 0 | 0 | 0 |\n",
       "| ASV6 | 236 | 205 |  694 | 254 | 201 | 257 | 152 | 524 | 379 | 442 | ⋯ | 279 | 278 | 558 | 202 | 651 | 296 | 0 | 0 | 0 | 0 |\n",
       "\n"
      ],
      "text/plain": [
       "     A1_1 A1_2 A1_3 A1_4 A2_1 A2_2 A2_3 A2_4 L1_1 L1_2 ⋯ M4_3 M4_4 M5_1 M5_2\n",
       "ASV1 342  239  1076 322  299  437  237  928  566  605  ⋯ 482  423  824  312 \n",
       "ASV2 354  239  1064 323  300  393  234  905  571  654  ⋯ 523  417  815  272 \n",
       "ASV3 310  204   878 269  229  335  224  678  436  527  ⋯ 395  321  658  236 \n",
       "ASV4 252  213   838 251  258  318  207  656  424  526  ⋯ 349  328  608  256 \n",
       "ASV5 286  226   868 291  242  361  218  663  418  480  ⋯ 339  293  579  273 \n",
       "ASV6 236  205   694 254  201  257  152  524  379  442  ⋯ 279  278  558  202 \n",
       "     M5_3 M5_4 S_1 S_2 S_3 S_4\n",
       "ASV1 940  455  0   0   0   0  \n",
       "ASV2 984  467  0   0   0   0  \n",
       "ASV3 788  382  0   0   0   0  \n",
       "ASV4 786  409  0   0   0   0  \n",
       "ASV5 784  378  0   0   0   0  \n",
       "ASV6 651  296  0   0   0   0  "
      ]
     },
     "metadata": {},
     "output_type": "display_data"
    }
   ],
   "source": [
    "getwd()\n",
    "tmp = loadMeta(\"Matriz_final_rhizosphere_asv-copia.tsv\", sep = \"\\t\") #Cargar tabla de ASVs\n",
    "taxa = read.delim(\"taxonomy_final_rhizosphere.tsv\", header=TRUE, row.names = 1, stringsAsFactors = FALSE, sep = \"\\t\") #Cargar taxonomía\n",
    "mapfile = loadPhenoData(\"metadata_rhizosphere.tsv\", tran = TRUE) #Cargar metadatos\n",
    "phenotypeData = AnnotatedDataFrame(mapfile) #Convertir metadatos\n",
    "OTUdata = AnnotatedDataFrame(taxa) #Convertir taxonomía\n",
    "obj = newMRexperiment(tmp$counts, phenoData = phenotypeData, featureData = OTUdata)\n",
    "head(MRcounts(obj[, 1:36])) #Mirar Columnas#"
   ]
  },
  {
   "cell_type": "markdown",
   "metadata": {},
   "source": [
    "Calculating the normalization factors:"
   ]
  },
  {
   "cell_type": "code",
   "execution_count": 3,
   "metadata": {},
   "outputs": [
    {
     "name": "stderr",
     "output_type": "stream",
     "text": [
      "Default value being used.\n",
      "\n",
      "Default value being used.\n",
      "\n"
     ]
    },
    {
     "data": {
      "text/html": [
       "<style>\n",
       ".list-inline {list-style: none; margin:0; padding: 0}\n",
       ".list-inline>li {display: inline-block}\n",
       ".list-inline>li:not(:last-child)::after {content: \"\\00b7\"; padding: 0 .5ex}\n",
       "</style>\n",
       "<ol class=list-inline><li>'A1'</li><li>'A2'</li><li>'L1'</li><li>'M1'</li><li>'M2'</li><li>'M3'</li><li>'M4'</li><li>'M5'</li><li>'Soil'</li></ol>\n"
      ],
      "text/latex": [
       "\\begin{enumerate*}\n",
       "\\item 'A1'\n",
       "\\item 'A2'\n",
       "\\item 'L1'\n",
       "\\item 'M1'\n",
       "\\item 'M2'\n",
       "\\item 'M3'\n",
       "\\item 'M4'\n",
       "\\item 'M5'\n",
       "\\item 'Soil'\n",
       "\\end{enumerate*}\n"
      ],
      "text/markdown": [
       "1. 'A1'\n",
       "2. 'A2'\n",
       "3. 'L1'\n",
       "4. 'M1'\n",
       "5. 'M2'\n",
       "6. 'M3'\n",
       "7. 'M4'\n",
       "8. 'M5'\n",
       "9. 'Soil'\n",
       "\n",
       "\n"
      ],
      "text/plain": [
       "[1] \"A1\"   \"A2\"   \"L1\"   \"M1\"   \"M2\"   \"M3\"   \"M4\"   \"M5\"   \"Soil\""
      ]
     },
     "metadata": {},
     "output_type": "display_data"
    },
    {
     "data": {
      "image/png": "[encoded data removed]",
      "text/plain": [
       "Plot with title “Normalization factors”"
      ]
     },
     "metadata": {
      "image/png": {
       "height": 420,
       "width": 420
      },
      "text/plain": {
       "height": 420,
       "width": 420
      }
     },
     "output_type": "display_data"
    }
   ],
   "source": [
    "p2 = cumNormStat(obj, pFlag = TRUE, main = \"Normalization factors\")\n",
    "obj = cumNorm(obj, p = cumNormStatFast(obj))\n",
    "normFactor = normFactors(obj)\n",
    "normFactor = log2(normFactor/median(normFactor) + 1)\n",
    "settings = zigControl(maxit = 10, verbose = TRUE) #Configuration for fitZig function, maxit: maximum iterations\n",
    "Accession = pData(obj)$Accession\n",
    "mod = model.matrix(~Accession)\n",
    "colnames(mod) = levels(Accession)\n",
    "colnames(mod)"
   ]
  },
  {
   "cell_type": "markdown",
   "metadata": {},
   "source": [
    "Normalization to export:"
   ]
  },
  {
   "cell_type": "code",
   "execution_count": 4,
   "metadata": {},
   "outputs": [],
   "source": [
    "mat = MRcounts(obj, norm = TRUE, log = TRUE)\n",
    "#mat #See created object"
   ]
  },
  {
   "cell_type": "markdown",
   "metadata": {},
   "source": [
    "Exporting Normalization:"
   ]
  },
  {
   "cell_type": "code",
   "execution_count": null,
   "metadata": {},
   "outputs": [],
   "source": [
    "exportMat(mat, file = file.path(\"CSS_normalized_spermosphere2.txt\")) #Colocar la ruta y el nombre del archivo#"
   ]
  },
  {
   "cell_type": "code",
   "execution_count": 8,
   "metadata": {
    "scrolled": true
   },
   "outputs": [
    {
     "name": "stdout",
     "output_type": "stream",
     "text": [
      "it= 0, nll=42.34, log10(eps+1)=Inf, stillActive=13833\n",
      "it= 1, nll=36.21, log10(eps+1)=0.08, stillActive=13364\n",
      "it= 2, nll=46.93, log10(eps+1)=0.05, stillActive=888\n",
      "it= 3, nll=47.53, log10(eps+1)=0.05, stillActive=118\n",
      "it= 4, nll=47.59, log10(eps+1)=0.06, stillActive=22\n",
      "it= 5, nll=47.61, log10(eps+1)=0.00, stillActive=1\n",
      "it= 6, nll=47.62, log10(eps+1)=0.00, stillActive=0\n"
     ]
    }
   ],
   "source": [
    "res = fitZig(obj = obj, mod = mod, useCSSoffset = TRUE, control = settings)\n",
    "zigFit = res@fit\n",
    "finalMod = res@fit$design"
   ]
  },
  {
   "cell_type": "markdown",
   "metadata": {},
   "source": [
    "Following command results in error:"
   ]
  },
  {
   "cell_type": "code",
   "execution_count": 6,
   "metadata": {},
   "outputs": [
    {
     "ename": "ERROR",
     "evalue": "Error in eval(ej, envir = levelsenv): objeto 'Wild_A' no encontrado\n",
     "output_type": "error",
     "traceback": [
      "Error in eval(ej, envir = levelsenv): objeto 'Wild_A' no encontrado\nTraceback:\n",
      "1. makeContrasts(Wild_A - Variety_G, levels = finalMod)",
      "2. eval(ej, envir = levelsenv)",
      "3. eval(ej, envir = levelsenv)"
     ]
    }
   ],
   "source": [
    "contrast.matrix = makeContrasts(Wild_A - Variety_G, levels = finalMod)"
   ]
  },
  {
   "cell_type": "code",
   "execution_count": null,
   "metadata": {},
   "outputs": [],
   "source": []
  }
 ],
 "metadata": {
  "kernelspec": {
   "display_name": "R",
   "language": "R",
   "name": "ir"
  },
  "language_info": {
   "codemirror_mode": "r",
   "file_extension": ".r",
   "mimetype": "text/x-r-source",
   "name": "R",
   "pygments_lexer": "r",
   "version": "3.6.3"
  }
 },
 "nbformat": 4,
 "nbformat_minor": 2
}
