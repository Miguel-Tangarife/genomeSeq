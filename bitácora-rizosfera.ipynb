{
 "cells": [
  {
   "cell_type": "markdown",
   "metadata": {},
   "source": [
    "# Bitácora de trabajo Rizosfera\n",
    "\n",
    "Initialize Qiime2:"
   ]
  },
  {
   "cell_type": "code",
   "execution_count": 1,
   "metadata": {},
   "outputs": [
    {
     "name": "stdout",
     "output_type": "stream",
     "text": [
      "(qiime2-2019.10) "
     ]
    },
    {
     "ename": "",
     "evalue": "1",
     "output_type": "error",
     "traceback": []
    }
   ],
   "source": [
    "source activate qiime2-2019.10"
   ]
  },
  {
   "cell_type": "markdown",
   "metadata": {},
   "source": [
    "## 2020-03-05 Clasificación taxonómica Rizosfera\n",
    "\n",
    "En el servidor de Bios se creó una carpeta llamada \"classifier-rhizosphere\", dentro de ella se encuentran los archivos \"rep-seqs.qza\" correspondientes a los reads de la rizosfera y el clasificador \"classifier.qza\".\n",
    "\n",
    "Luego se ejecutó el clasificador:\n",
    "\n",
    "```sh\n",
    "screen\n",
    "time qiime feature-classifier classify-sklearn \\\n",
    "  --i-classifier classifier.qza \\\n",
    "  --i-reads rep-seqs.qza \\\n",
    "  --o-classification taxonomy-rhizosphere.qza\n",
    "```\n",
    "\n",
    "## Inferencia filogenética\n",
    "\n",
    "Se realizó un alineamiento de las secuencias mediante MAFFT en el servidor de BIOS:\n",
    "\n",
    "```bash\n",
    "cd rhizosphere\n",
    "mkdir phylogenetic-tree\n",
    "cd phylogenetic-tree\n",
    "\n",
    "qiime alignment mafft \\\n",
    "  --i-sequences ../rep-seqs-rh.qza \\\n",
    "  --o-alignment aligned-rep-seqs-rh.qza\n",
    "```\n",
    "  \n",
    "Luego se hizo el masking para eliminar posiciones no informativas:\n",
    "\n",
    "```bash\n",
    "qiime alignment mask \\\n",
    "  --i-alignment aligned-rep-seqs-rh.qza \\\n",
    "  --o-masked-alignment masked-aligned-rep-seqs-rh.qza\n",
    "```\n",
    "  \n",
    "Luego se realizó el árbol mediante FastTree:\n",
    "\n",
    "```bash\n",
    "qiime phylogeny fasttree \\\n",
    "  --i-alignment masked-aligned-rep-seqs-rh.qza \\\n",
    "  --o-tree fasttree-tree-rh.qza\n",
    "```\n",
    "  \n",
    "Por último se hizo el enraizado del árbol:\n",
    "\n",
    "```bash\n",
    "qiime phylogeny midpoint-root \\\n",
    "  --i-tree fasttree-tree-rh.qza \\\n",
    "  --o-rooted-tree fasttree-tree-rooted-rh.qza\n",
    "```\n",
    "  \n",
    "## Barplot de la clasificación\n",
    "\n",
    "\n",
    "\n",
    "```bash\n",
    "cd Documentos/genomeseq/rhizosphere/classifier/\n",
    "\n",
    "qiime taxa barplot \\\n",
    "  --i-table table-rh.qza \\\n",
    "  --i-taxonomy taxonomy-rhizosphere.qza \\\n",
    "  --m-metadata-file ../metadata_rhizosphere.tsv \\\n",
    "  --o-visualization taxa-bar-plots-rh.qzv\n",
    "```"
   ]
  },
  {
   "cell_type": "markdown",
   "metadata": {},
   "source": [
    "## 2020-03-18 Reunión por Meet, pasos a seguir\n",
    "\n",
    "Crear gráficas que permitan ir escribiendo el artículo. La gráfica debe explicarse a sí misma.\n",
    "\n",
    "### Figuras publicación\n",
    "\n",
    "Se creó un archivo de LibreOffice Impress con las figuras tentativas y su respectiva leyenda.\n",
    "\n",
    "## 2020-03-25\n",
    "\n",
    "Estefany me mandó la tabla de ASVs en formato .tsv, así que en el servidor de BIOS la convertí a .biom mediante el siguiente comando:\n",
    "\n",
    "```bash\n",
    "(qiime2-2019.10) jeperezj@r1masterl01:~/jcar/rhizosphere$ biom convert -i rhizosphere_asv.tsv -o table-rh.biom --to-hdf5\n",
    "```\n",
    "\n",
    "Luego convertí el .biom en un .qza:\n",
    "```bash\n",
    "(qiime2-2019.10) jeperezj@r1masterl01:~/jcar/rhizosphere$ qiime tools import \\\n",
    "    --input-path table-rh.biom \\\n",
    "    --type 'FeatureTable[Frequency]' \\\n",
    "    --output-path feature-table-rh.qza\n",
    "```\n",
    "    \n",
    "\n",
    "## Análisis de composición (ANCOM)\n",
    "\n",
    "También estoy analizando la composición para saber qué ASVs están en diferentes abundancias en las diferentes muestras, se corrieron los siguientes comandos:\n",
    "\n",
    "```bash\n",
    "(qiime2-2019.10) jeperezj@r1masterl01:~/jcar/rhizosphere/ancom-composition-analysis$ qiime composition add-pseudocount \\\n",
    "    --i-table feature-table-rh.qza \\\n",
    "    --o-composition-table comp-table-rh.qza\n",
    "    \n",
    "(qiime2-2019.10) jeperezj@r1masterl01:~/jcar/rhizosphere/ancom-composition-analysis$ time qiime composition ancom \\\n",
    "    --i-table comp-table-rh.qza \\\n",
    "    --m-metadata-file ../metadata_rhizosphere.tsv \\\n",
    "    --m-metadata-column Plant_status \\\n",
    "    --o-visualization ancom-plant-status-rh.qzv\n",
    "```\n",
    "\n",
    "El último comando se demora mucho (incluso en el servidor de BIOS) y no ha funcionado.\n",
    "\n",
    "**2020-03-27:** El comando funcionó después de arreglar el archivo de metadatos intercambiando de lugar las dos primeras columnas.\n",
    "\n",
    "El resultado fue el siguiente:\n",
    "\n",
    "![ancom-volcano-plot-plant-status-rh-taxa.png](attachment:ancom-volcano-plot-plant-status-rh-taxa.png)\n",
    "\n",
    "## ANCOM solo con suelo cultivado\n",
    "\n",
    "Como esperamos que entre el suelo no cultivado y el cultivado cambie más las entidades taxonómicas, es mejor crear un set de datos solamente con el suelo cultivado y comparar Modern y Ancestral:\n",
    "\n",
    "```bash\n",
    "(qiime2-2019.10) jeperezj@r1masterl01:~/jcar/rhizosphere/ancom-composition-analysis$ qiime feature-table filter-samples \\\n",
    "    --i-table feature-table-rh.qza \\\n",
    "    --m-metadata-file metadata_rhizosphere.tsv \\\n",
    "    --p-where \"[Plant_status]!='NA'\" \\\n",
    "    --o-filtered-table only-cultured-soil-ancom/cultured-soil-table--rh.qza\n",
    "\n",
    "```\n",
    "\n",
    "Luego se volvió a realizar el análisis ANCOM:\n",
    "\n",
    "```bash\n",
    "(qiime2-2019.10) jeperezj@r1masterl01:~/jcar/rhizosphere/ancom-composition-analysis/only-cultured-soil-ancom$ qiime composition add-pseudocount \\\n",
    "    --i-table cultured-soil-table--rh.qza \\\n",
    "    --o-composition-table comp-table-cultured-rh.qza\n",
    "\n",
    "(qiime2-2019.10) jeperezj@r1masterl01:~/jcar/rhizosphere/ancom-composition-analysis/only-cultured-soil-ancom$ time qiime composition ancom \\\n",
    "    --i-table comp-table-cultured-rh.qza \\\n",
    "    --m-metadata-file ../metadata_rhizosphere.tsv \\\n",
    "    --m-metadata-column Plant_status \\\n",
    "    --o-visualization ancom-plant-status-cultured-rh.qzv\n",
    "```\n",
    "Este es el resultado:\n",
    "\n",
    "![ancom-volcano-plot-plant-status-cultured-rh-taxa.png](attachment:ancom-volcano-plot-plant-status-cultured-rh-taxa.png)"
   ]
  },
  {
   "cell_type": "markdown",
   "metadata": {},
   "source": [
    "## Visualización de la clasificación taxonómica:\n",
    "\n",
    "```bash\n",
    "(qiime2-2019.10) nesper@gojira-E402MA:~/Documentos/genomeseq/rhizosphere/classifier$ qiime metadata tabulate \\\n",
    "    --m-input-file taxonomy-rhizosphere.qza \\\n",
    "    --o-visualization taxonomy-rhizosphere.qzv\n",
    "```"
   ]
  },
  {
   "cell_type": "markdown",
   "metadata": {},
   "source": [
    "## ANCOM a nivel de familia\n",
    "\n",
    "También se agruparon los ASVs por familia y se realizó el análisis ANCOM solo para el suelo cultivado a nivel de familia:\n",
    "\n",
    "```bash\n",
    "(qiime2-2019.10) jeperezj@r1masterl01:~/jcar/rhizosphere/ancom-composition-analysis/collapsed-to-family$ qiime taxa collapse \\\n",
    "    --i-table cultured-soil-table-rh.qza \\\n",
    "    --i-taxonomy taxonomy-rhizosphere.qza \\\n",
    "    --o-collapsed-table table-family-level-rh.qza \\\n",
    "    --p-level 5\n",
    "    \n",
    "(qiime2-2019.10) jeperezj@r1masterl01:~/jcar/rhizosphere/ancom-composition-analysis/collapsed-to-family$ qiime composition add-pseudocount \\\n",
    "    --i-table table-family-level-rh.qza \\\n",
    "    --o-composition-table comp-table-famlvl-rh.qza\n",
    "\n",
    "(qiime2-2019.10) jeperezj@r1masterl01:~/jcar/rhizosphere/ancom-composition-analysis/collapsed-to-family$ time qiime composition ancom \\\n",
    "    --i-table comp-table-famlvl-rh.qza \\\n",
    "    --m-metadata-file ../metadata_rhizosphere.tsv \\\n",
    "    --m-metadata-column Plant_status \\\n",
    "    --o-visualization ancom-famlvl-cult-rh.qzv\n",
    "```"
   ]
  },
  {
   "cell_type": "markdown",
   "metadata": {},
   "source": [
    "Visualization of ANCOM at family level:"
   ]
  },
  {
   "cell_type": "code",
   "execution_count": 2,
   "metadata": {},
   "outputs": [
    {
     "name": "stdout",
     "output_type": "stream",
     "text": [
      "Press the 'q' key, Control-C, or Control-D to quit. This view may no longer be accessible or work correctly after quitting.(qiime2-2019.10) "
     ]
    }
   ],
   "source": [
    "qiime tools view ancom-composition-analysis/ancom-famlvl-cult-rh.qzv"
   ]
  },
  {
   "cell_type": "markdown",
   "metadata": {},
   "source": [
    "Visualización:\n",
    "\n",
    "![](ancom-composition-analysis/ancom-volcano-plot-plant-status-cultured-famlvl-rh.png)\n",
    "\n",
    "El grupo con abundancia diferencial fue:\n",
    "\n",
    "D_0__Bacteria;D_1__FBP;D_2__metagenome;D_3__metagenome;D_4__metagenome\n",
    "\n",
    "¿Qué familia será?"
   ]
  },
  {
   "cell_type": "code",
   "execution_count": null,
   "metadata": {},
   "outputs": [],
   "source": []
  }
 ],
 "metadata": {
  "kernelspec": {
   "display_name": "Bash",
   "language": "bash",
   "name": "bash"
  },
  "language_info": {
   "codemirror_mode": "shell",
   "file_extension": ".sh",
   "mimetype": "text/x-sh",
   "name": "bash"
  }
 },
 "nbformat": 4,
 "nbformat_minor": 2
}
