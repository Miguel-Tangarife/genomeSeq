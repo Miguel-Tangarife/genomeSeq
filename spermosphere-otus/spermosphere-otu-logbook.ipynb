{
 "cells": [
  {
   "cell_type": "markdown",
   "metadata": {},
   "source": [
    "# Spermosphere data analysis using OTU approach\n",
    "File created on 2020-05-24\n",
    "\n",
    "---\n",
    "Juan E. Pérez sent me the file `rarefied_otu_table_STAMP.txt` in an email on May 2020.\n",
    "\n",
    "First I deleted the taxonomic information in the OTU table in order to be able \n",
    "to convert it to BIOM format:"
   ]
  },
  {
   "cell_type": "code",
   "execution_count": 1,
   "metadata": {},
   "outputs": [],
   "source": [
    "cut -f1-5 --complement rarefied_otu_table_STAMP.txt > rarefied-otu-table-no-taxonomy.txt"
   ]
  },
  {
   "cell_type": "markdown",
   "metadata": {},
   "source": [
    "Then I converted the table to BIOM format:"
   ]
  },
  {
   "cell_type": "code",
   "execution_count": 2,
   "metadata": {},
   "outputs": [],
   "source": [
    "biom convert -i rarefied-otu-table-no-taxonomy.txt -o rarefied-otu-table-no-taxonomy.biom --to-hdf5"
   ]
  },
  {
   "cell_type": "markdown",
   "metadata": {},
   "source": [
    "Load Qiime2 and import the OTU table:"
   ]
  },
  {
   "cell_type": "code",
   "execution_count": 3,
   "metadata": {},
   "outputs": [
    {
     "name": "stdout",
     "output_type": "stream",
     "text": [
      "(qiime2-2019.10) (qiime2-2019.10) \u001b[32mImported rarefied-otu-table-no-taxonomy.biom as BIOMV210Format to otu-table.qza\u001b[0m\n",
      "(qiime2-2019.10) "
     ]
    },
    {
     "ename": "",
     "evalue": "1",
     "output_type": "error",
     "traceback": []
    }
   ],
   "source": [
    "source activate qiime2-2019.10\n",
    "\n",
    "qiime tools import \\\n",
    "    --input-path rarefied-otu-table-no-taxonomy.biom \\\n",
    "    --type 'FeatureTable[Frequency]' \\\n",
    "    --input-format BIOMV210Format \\\n",
    "    --output-path otu-table.qza"
   ]
  },
  {
   "cell_type": "code",
   "execution_count": null,
   "metadata": {},
   "outputs": [],
   "source": []
  }
 ],
 "metadata": {
  "kernelspec": {
   "display_name": "Bash",
   "language": "bash",
   "name": "bash"
  },
  "language_info": {
   "codemirror_mode": "shell",
   "file_extension": ".sh",
   "mimetype": "text/x-sh",
   "name": "bash"
  }
 },
 "nbformat": 4,
 "nbformat_minor": 2
}
